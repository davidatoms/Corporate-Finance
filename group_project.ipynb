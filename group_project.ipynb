{
 "cells": [
  {
   "cell_type": "code",
   "execution_count": 24,
   "outputs": [],
   "source": [
    "# dependencies\n",
    "import pandas as pd\n",
    "import numpy as np"
   ],
   "metadata": {
    "collapsed": false,
    "ExecuteTime": {
     "end_time": "2023-09-16T05:30:08.279755300Z",
     "start_time": "2023-09-16T05:30:07.006348300Z"
    }
   }
  },
  {
   "cell_type": "code",
   "execution_count": 27,
   "outputs": [
    {
     "name": "stdout",
     "output_type": "stream",
     "text": [
      "Initial Capital Expenditure: $1,111,600.00\n"
     ]
    }
   ],
   "source": [
    "# initial capital expenditure\n",
    "ppe = 11116000\n",
    "initial_capital_expenditure = 0.1*ppe\n",
    "print(\"Initial Capital Expenditure: ${:,.2f}\".format(initial_capital_expenditure))"
   ],
   "metadata": {
    "collapsed": false,
    "ExecuteTime": {
     "end_time": "2023-09-16T05:31:36.158710300Z",
     "start_time": "2023-09-16T05:31:36.144710900Z"
    }
   }
  },
  {
   "cell_type": "code",
   "execution_count": 29,
   "outputs": [
    {
     "name": "stdout",
     "output_type": "stream",
     "text": [
      "555800.0\n"
     ]
    }
   ],
   "source": [
    "# The project will then require an additional investment equal to 50% of the initial capital expenditure in the first year of the project (year 1).\n",
    "additional_capital_expenditure = initial_capital_expenditure*.5\n",
    "print(additional_capital_expenditure)"
   ],
   "metadata": {
    "collapsed": false,
    "ExecuteTime": {
     "end_time": "2023-09-16T05:33:19.148135400Z",
     "start_time": "2023-09-16T05:33:19.137055400Z"
    }
   }
  },
  {
   "cell_type": "code",
   "execution_count": 28,
   "outputs": [
    {
     "name": "stdout",
     "output_type": "stream",
     "text": [
      "Year 1 Project: $2,387,700.00\n",
      "Year 2 Project: $2,745,855.00\n",
      "Year 3 Project: $3,020,440.50\n",
      "Year 4 Project: $3,171,462.53\n",
      "Year 5 Project: $3,330,035.65\n"
     ]
    }
   ],
   "source": [
    "# revenue\n",
    "total_revenue = 79590000\n",
    "year_1_project = total_revenue*0.03\n",
    "year_2_project = year_1_project*1.15\n",
    "year_3_project = year_2_project*1.1\n",
    "year_4_project = year_3_project*1.05\n",
    "year_5_project = year_4_project*1.05\n",
    "\n",
    "print(\"Year 1 Project: ${:,.2f}\".format(year_1_project))\n",
    "print(\"Year 2 Project: ${:,.2f}\".format(year_2_project))\n",
    "print(\"Year 3 Project: ${:,.2f}\".format(year_3_project))\n",
    "print(\"Year 4 Project: ${:,.2f}\".format(year_4_project))\n",
    "print(\"Year 5 Project: ${:,.2f}\".format(year_5_project))"
   ],
   "metadata": {
    "collapsed": false,
    "ExecuteTime": {
     "end_time": "2023-09-16T05:32:12.512566700Z",
     "start_time": "2023-09-16T05:32:12.466472300Z"
    }
   }
  },
  {
   "cell_type": "code",
   "execution_count": null,
   "outputs": [],
   "source": [
    "# Your job is to determine the rest of the cash flows associated with this project. Your boss has indicated that the operating costs and net working capital requirements are similar to the rest of the company and that depreciation is straight-line for capital budgeting purposes."
   ],
   "metadata": {
    "collapsed": false
   }
  },
  {
   "cell_type": "code",
   "execution_count": 6,
   "outputs": [
    {
     "name": "stdout",
     "output_type": "stream",
     "text": [
      "EBITDA: $16,545,000.00\n"
     ]
    }
   ],
   "source": [
    "# TODO: Compute the free cash flow for each year\n",
    "# assume that the project's profitability will be similar to IBM's existing projects in the latest fiscal year and estimate (revenues-costs) each year by using the latest EBITDA/Sales profit margin. Calculate EBITDA as EBIT + Depreciation expense\n",
    "ebit = 12065000\n",
    "depreciation_expense = 4480000\n",
    "project_ebitda = ebit + depreciation_expense\n",
    "print(\"EBITDA: ${:,.2f}\".format(project_ebitda))"
   ],
   "metadata": {
    "collapsed": false,
    "ExecuteTime": {
     "end_time": "2023-09-16T03:33:01.534915400Z",
     "start_time": "2023-09-16T03:33:01.522917100Z"
    }
   }
  },
  {
   "cell_type": "code",
   "execution_count": 19,
   "outputs": [
    {
     "name": "stdout",
     "output_type": "stream",
     "text": [
      "[16545000, 16556000, 17341000, 20268000]\n"
     ]
    }
   ],
   "source": [
    "def calculate_ebitda(ebit_list, depreciation_list):\n",
    "    # Check if lengths of the two lists are the same\n",
    "    if len(ebit_list) != len(depreciation_list):\n",
    "        raise ValueError(\"Both lists must be of the same length\")\n",
    "\n",
    "    # Calculate EBITDA for each year\n",
    "    ebitda_list = [ebit + depreciation for ebit, depreciation in zip(ebit_list, depreciation_list)]\n",
    "\n",
    "    return ebitda_list\n",
    "\n",
    "ebit_list = [12065000, 12015000, 12960000, 16413000]\n",
    "depreciation_list = [4480000, 4541000, 4381000, 3855000]\n",
    "\n",
    "project_ebitda_list = calculate_ebitda(ebit_list, depreciation_list)\n",
    "print(project_ebitda_list)"
   ],
   "metadata": {
    "collapsed": false,
    "ExecuteTime": {
     "end_time": "2023-09-16T05:06:40.214851900Z",
     "start_time": "2023-09-16T05:06:40.168744300Z"
    }
   }
  },
  {
   "cell_type": "code",
   "execution_count": 11,
   "outputs": [
    {
     "name": "stdout",
     "output_type": "stream",
     "text": [
      "Sales Margin 10.97%\n"
     ]
    }
   ],
   "source": [
    "# TODO: Calculate the sales profit margin\n",
    "net_profit = 8728000\n",
    "revenue = 79590000\n",
    "sales_margin = (net_profit/revenue)*100\n",
    "print(\"Sales Margin {:,.2f}%\".format(sales_margin))"
   ],
   "metadata": {
    "collapsed": false,
    "ExecuteTime": {
     "end_time": "2023-09-16T03:43:23.823226Z",
     "start_time": "2023-09-16T03:43:23.819226400Z"
    }
   }
  },
  {
   "cell_type": "code",
   "execution_count": 20,
   "outputs": [
    {
     "name": "stdout",
     "output_type": "stream",
     "text": [
      "[911.8927589367553, 1375.6127237962803, 673.1805929919137, 619.7270659590598]\n"
     ]
    }
   ],
   "source": [
    "def calculate_sales_margin(net_profit_list, revenue_list):\n",
    "    # Check if lengths of the two lists are the same\n",
    "    if len(net_profit_list) != len(revenue_list):\n",
    "        raise ValueError(\"Both lists must be of the same length\")\n",
    "\n",
    "    # Calculate sales margin for each pair of net_profit and revenue\n",
    "    sales_margin_list = [(profit / revenue) * 100 if revenue != 0 else 0 for profit, revenue in zip(net_profit_list, revenue_list)]\n",
    "\n",
    "    return sales_margin_list\n",
    "\n",
    "# Sample data\n",
    "net_profit_list = [79590000, 79139000, 79920000, 81742000]  # Net profit values for the next 5 years\n",
    "revenue_list = [8728000, 5753000, 11872000,\t13190000]  # Revenue values for the next 5 years\n",
    "\n",
    "sales_margin_values = calculate_sales_margin(net_profit_list, revenue_list)\n",
    "print(sales_margin_values)"
   ],
   "metadata": {
    "collapsed": false,
    "ExecuteTime": {
     "end_time": "2023-09-16T05:16:48.326796200Z",
     "start_time": "2023-09-16T05:16:48.282466300Z"
    }
   }
  },
  {
   "cell_type": "code",
   "execution_count": 21,
   "outputs": [],
   "source": [
    "def divide_lists(list1, list2):\n",
    "    # Check if lengths of the two lists are the same\n",
    "    if len(list1) != len(list2):\n",
    "        raise ValueError(\"Both lists must be of the same length\")\n",
    "\n",
    "    # Divide elements of list1 by elements of list2, handling division by zero\n",
    "    result_list = [x / y if y != 0 else float('inf') for x, y in zip(list1, list2)]\n",
    "\n",
    "    return result_list"
   ],
   "metadata": {
    "collapsed": false,
    "ExecuteTime": {
     "end_time": "2023-09-16T05:18:32.423423400Z",
     "start_time": "2023-09-16T05:18:32.412421200Z"
    }
   }
  },
  {
   "cell_type": "code",
   "execution_count": 23,
   "outputs": [
    {
     "name": "stdout",
     "output_type": "stream",
     "text": [
      "[18143.580851865812, 12035.3641061929, 25759.803803803803, 32704.71972792445]\n"
     ]
    }
   ],
   "source": [
    "# ebitda / sales margin\n",
    "ebitda_divide_sales_margin = divide_lists(project_ebitda_list, sales_margin_values)\n",
    "print(ebitda_divide_sales_margin)"
   ],
   "metadata": {
    "collapsed": false,
    "ExecuteTime": {
     "end_time": "2023-09-16T05:19:54.500800800Z",
     "start_time": "2023-09-16T05:19:54.494801900Z"
    }
   }
  },
  {
   "cell_type": "code",
   "execution_count": 14,
   "outputs": [
    {
     "name": "stdout",
     "output_type": "stream",
     "text": [
      "Project Profit: $1,508,726.57\n"
     ]
    }
   ],
   "source": [
    "# Assume that the project's profitability will be similar to IBM's existing projects in the latest fiscal year and estimate (revenues-costs) each year by using the latest EBITDA/Sales profit margin.\n",
    "existing_projects_profit = project_ebitda / sales_margin\n",
    "print(\"Project Profit: ${:,.2f}\".format(existing_projects_profit))"
   ],
   "metadata": {
    "collapsed": false,
    "ExecuteTime": {
     "end_time": "2023-09-16T04:10:17.795432500Z",
     "start_time": "2023-09-16T04:10:17.787423100Z"
    }
   }
  },
  {
   "cell_type": "code",
   "execution_count": 16,
   "outputs": [
    {
     "name": "stdout",
     "output_type": "stream",
     "text": [
      "[0.20787787410478703, 0.20920153148258128, 0.2169794794794795, 0.24795086980988965]\n"
     ]
    }
   ],
   "source": [
    "def calculate_ebitda_profit_margin(ebit_list, depreciation_list, revenue_list):\n",
    "    # Check if lengths of all lists are same\n",
    "    if len(ebit_list) != len(depreciation_list) or len(ebit_list) != len(revenue_list):\n",
    "        raise ValueError(\"All lists must be of the same length\")\n",
    "\n",
    "    # Calculate EBITDA for each year\n",
    "    ebitda_list = [ebit + depreciation for ebit, depreciation in zip(ebit_list, depreciation_list)]\n",
    "\n",
    "    # Calculate EBITDA/Sales profit margin for each year\n",
    "    ebitda_sales_margin_list = [ebitda / revenue if revenue != 0 else 0 for ebitda, revenue in zip(ebitda_list, revenue_list)]\n",
    "\n",
    "    return ebitda_sales_margin_list\n",
    "\n",
    "# Sample data\n",
    "ebit_list = [12065000, 12015000, 12960000, 16413000]  # EBIT values for the next 5 years\n",
    "depreciation_list = [4480000, 4541000, 4381000, 3855000]  # Depreciation expenses for the next 5 years\n",
    "revenue_list = [79590000, 79139000, 79920000, 81742000]  # Revenues for the next 5 years\n",
    "\n",
    "profit_margins = calculate_ebitda_profit_margin(ebit_list, depreciation_list, revenue_list)\n",
    "print(profit_margins)"
   ],
   "metadata": {
    "collapsed": false,
    "ExecuteTime": {
     "end_time": "2023-09-16T04:48:35.170691700Z",
     "start_time": "2023-09-16T04:48:35.166705500Z"
    }
   }
  },
  {
   "cell_type": "code",
   "execution_count": 31,
   "outputs": [
    {
     "name": "stdout",
     "output_type": "stream",
     "text": [
      "Assets depreciation value per year $333,480.00\n"
     ]
    }
   ],
   "source": [
    "# TODO: determine the annual depreciation by assuming IBM depreciates these assets by the straight-line method over a five-year life\n",
    "assets = initial_capital_expenditure + additional_capital_expenditure\n",
    "\n",
    "assets_dep = assets/5\n",
    "print(\"Assets depreciation value per year ${:,.2f}\".format(assets_dep))"
   ],
   "metadata": {
    "collapsed": false,
    "ExecuteTime": {
     "end_time": "2023-09-16T05:40:59.694574800Z",
     "start_time": "2023-09-16T05:40:59.686134900Z"
    }
   }
  },
  {
   "cell_type": "code",
   "execution_count": null,
   "outputs": [],
   "source": [
    "# TODO: Calculate the net working capital required each year by assuming that the level of net working capital will be a constant percentage of the project's sales. Use IBM's NWC/Sales for the latest fiscal year to estimate the required percentage.\n",
    "# Use only accounts receivable, accounts payable, and inventory to measure working capital. Other components of current assets and liabilities are harder to interpret and not necessarily reflective of the project's required NWC)\n",
    "\n",
    "def net_working_capital_list(accounts_receivable_list, inventory_list, accounts_payable_list):\n",
    "    return [(ar + inv) - ap for ar, inv, ap in zip(accounts_receivable_list, inventory_list, accounts_payable_list)]\n",
    "\n",
    "# Example:\n",
    "accounts_receivable_list = [5000, 6000, 5500]\n",
    "inventory_list = [3000, 3200, 3100]\n",
    "accounts_payable_list = [2000, 2100, 2050]\n",
    "\n",
    "nwc_list = net_working_capital_list(accounts_receivable_list, inventory_list, accounts_payable_list)\n",
    "print(f\"Net Working Capital List: {nwc_list}\")"
   ],
   "metadata": {
    "collapsed": false
   }
  },
  {
   "cell_type": "code",
   "execution_count": null,
   "outputs": [],
   "source": [
    "def net_working_capital_list(accounts_receivable_list, inventory_list, accounts_payable_list):\n",
    "    # Calculate net working capital for each year\n",
    "    nwc_list = [(ar + inv) - ap for ar, inv, ap in zip(accounts_receivable_list, inventory_list, accounts_payable_list)]\n",
    "\n",
    "    # Calculate the change in net working capital each year\n",
    "    nwc_change = [nwc_list[i] - nwc_list[i-1] for i in range(1, len(nwc_list))]\n",
    "    # Add a 0 at the beginning since there's no change for the first year\n",
    "    nwc_change.insert(0, 0)\n",
    "\n",
    "    return nwc_list, nwc_change\n",
    "\n",
    "# Example:\n",
    "accounts_receivable_list = [5000, 6000, 5500]\n",
    "inventory_list = [3000, 3200, 3100]\n",
    "accounts_payable_list = [655800, 6451000, 6209000, 6028000]\n",
    "\n",
    "nwc_list, nwc_change_list = net_working_capital_list(accounts_receivable_list, inventory_list, accounts_payable_list)\n",
    "print(f\"Net Working Capital List: {nwc_list}\")\n",
    "print(f\"Change in Net Working Capital List: {nwc_change_list}\")"
   ],
   "metadata": {
    "collapsed": false
   }
  }
 ],
 "metadata": {
  "kernelspec": {
   "display_name": "Python 3",
   "language": "python",
   "name": "python3"
  },
  "language_info": {
   "codemirror_mode": {
    "name": "ipython",
    "version": 2
   },
   "file_extension": ".py",
   "mimetype": "text/x-python",
   "name": "python",
   "nbconvert_exporter": "python",
   "pygments_lexer": "ipython2",
   "version": "2.7.6"
  }
 },
 "nbformat": 4,
 "nbformat_minor": 0
}
