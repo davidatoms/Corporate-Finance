{
 "cells": [
  {
   "cell_type": "code",
   "execution_count": 41,
   "outputs": [],
   "source": [
    "# dependencies\n",
    "import pandas as pd\n",
    "import numpy as np"
   ],
   "metadata": {
    "collapsed": false,
    "ExecuteTime": {
     "end_time": "2023-09-16T06:35:28.129145300Z",
     "start_time": "2023-09-16T06:35:28.058870100Z"
    }
   }
  },
  {
   "cell_type": "code",
   "execution_count": 42,
   "outputs": [
    {
     "name": "stdout",
     "output_type": "stream",
     "text": [
      "Initial Capital Expenditure: $1,111,600.00\n"
     ]
    }
   ],
   "source": [
    "# initial capital expenditure\n",
    "ppe = 11116000\n",
    "initial_capital_expenditure = 0.1*ppe\n",
    "print(\"Initial Capital Expenditure: ${:,.2f}\".format(initial_capital_expenditure))"
   ],
   "metadata": {
    "collapsed": false,
    "ExecuteTime": {
     "end_time": "2023-09-16T06:35:28.129145300Z",
     "start_time": "2023-09-16T06:35:28.075871700Z"
    }
   }
  },
  {
   "cell_type": "code",
   "execution_count": 43,
   "outputs": [
    {
     "name": "stdout",
     "output_type": "stream",
     "text": [
      "555800.0\n"
     ]
    }
   ],
   "source": [
    "# The project will then require an additional investment equal to 50% of the initial capital expenditure in the first year of the project (year 1).\n",
    "additional_capital_expenditure = initial_capital_expenditure*.5\n",
    "print(additional_capital_expenditure)"
   ],
   "metadata": {
    "collapsed": false,
    "ExecuteTime": {
     "end_time": "2023-09-16T06:35:28.129145300Z",
     "start_time": "2023-09-16T06:35:28.090771200Z"
    }
   }
  },
  {
   "cell_type": "code",
   "execution_count": 44,
   "outputs": [
    {
     "name": "stdout",
     "output_type": "stream",
     "text": [
      "Year 1 Project: $2,387,700.00\n",
      "Year 2 Project: $2,745,855.00\n",
      "Year 3 Project: $3,020,440.50\n",
      "Year 4 Project: $3,171,462.53\n",
      "Year 5 Project: $3,330,035.65\n"
     ]
    }
   ],
   "source": [
    "# revenue\n",
    "total_revenue = 79590000\n",
    "year_1_project = total_revenue*0.03\n",
    "year_2_project = year_1_project*1.15\n",
    "year_3_project = year_2_project*1.1\n",
    "year_4_project = year_3_project*1.05\n",
    "year_5_project = year_4_project*1.05\n",
    "\n",
    "print(\"Year 1 Project: ${:,.2f}\".format(year_1_project))\n",
    "print(\"Year 2 Project: ${:,.2f}\".format(year_2_project))\n",
    "print(\"Year 3 Project: ${:,.2f}\".format(year_3_project))\n",
    "print(\"Year 4 Project: ${:,.2f}\".format(year_4_project))\n",
    "print(\"Year 5 Project: ${:,.2f}\".format(year_5_project))"
   ],
   "metadata": {
    "collapsed": false,
    "ExecuteTime": {
     "end_time": "2023-09-16T06:35:28.130146500Z",
     "start_time": "2023-09-16T06:35:28.107145700Z"
    }
   }
  },
  {
   "cell_type": "code",
   "execution_count": 45,
   "outputs": [],
   "source": [
    "# Your job is to determine the rest of the cash flows associated with this project. Your boss has indicated that the operating costs and net working capital requirements are similar to the rest of the company and that depreciation is straight-line for capital budgeting purposes."
   ],
   "metadata": {
    "collapsed": false,
    "ExecuteTime": {
     "end_time": "2023-09-16T06:35:28.148339400Z",
     "start_time": "2023-09-16T06:35:28.122149600Z"
    }
   }
  },
  {
   "cell_type": "code",
   "execution_count": 46,
   "outputs": [
    {
     "name": "stdout",
     "output_type": "stream",
     "text": [
      "EBITDA: $16,545,000.00\n"
     ]
    }
   ],
   "source": [
    "# TODO: Compute the free cash flow for each year\n",
    "# assume that the project's profitability will be similar to IBM's existing projects in the latest fiscal year and estimate (revenues-costs) each year by using the latest EBITDA/Sales profit margin. Calculate EBITDA as EBIT + Depreciation expense\n",
    "ebit = 12065000\n",
    "depreciation_expense = 4480000\n",
    "project_ebitda = ebit + depreciation_expense\n",
    "print(\"EBITDA: ${:,.2f}\".format(project_ebitda))"
   ],
   "metadata": {
    "collapsed": false,
    "ExecuteTime": {
     "end_time": "2023-09-16T06:35:28.150157800Z",
     "start_time": "2023-09-16T06:35:28.137157700Z"
    }
   }
  },
  {
   "cell_type": "code",
   "execution_count": 47,
   "outputs": [
    {
     "name": "stdout",
     "output_type": "stream",
     "text": [
      "[16545000, 16556000, 17341000, 20268000]\n"
     ]
    }
   ],
   "source": [
    "def calculate_ebitda(ebit_list, depreciation_list):\n",
    "    # Check if lengths of the two lists are the same\n",
    "    if len(ebit_list) != len(depreciation_list):\n",
    "        raise ValueError(\"Both lists must be of the same length\")\n",
    "\n",
    "    # Calculate EBITDA for each year\n",
    "    ebitda_list = [ebit + depreciation for ebit, depreciation in zip(ebit_list, depreciation_list)]\n",
    "\n",
    "    return ebitda_list\n",
    "\n",
    "ebit_list = [12065000, 12015000, 12960000, 16413000]\n",
    "depreciation_list = [4480000, 4541000, 4381000, 3855000]\n",
    "\n",
    "project_ebitda_list = calculate_ebitda(ebit_list, depreciation_list)\n",
    "print(project_ebitda_list)"
   ],
   "metadata": {
    "collapsed": false,
    "ExecuteTime": {
     "end_time": "2023-09-16T06:35:28.212338300Z",
     "start_time": "2023-09-16T06:35:28.153158600Z"
    }
   }
  },
  {
   "cell_type": "code",
   "execution_count": 48,
   "outputs": [
    {
     "name": "stdout",
     "output_type": "stream",
     "text": [
      "Sales Margin 10.97%\n"
     ]
    }
   ],
   "source": [
    "# TODO: Calculate the sales profit margin\n",
    "net_profit = 8728000\n",
    "revenue = 79590000\n",
    "sales_margin = (net_profit/revenue)*100\n",
    "print(\"Sales Margin {:,.2f}%\".format(sales_margin))"
   ],
   "metadata": {
    "collapsed": false,
    "ExecuteTime": {
     "end_time": "2023-09-16T06:35:28.213241200Z",
     "start_time": "2023-09-16T06:35:28.169262900Z"
    }
   }
  },
  {
   "cell_type": "code",
   "execution_count": 49,
   "outputs": [
    {
     "name": "stdout",
     "output_type": "stream",
     "text": [
      "[911.8927589367553, 1375.6127237962803, 673.1805929919137, 619.7270659590598]\n"
     ]
    }
   ],
   "source": [
    "def calculate_sales_margin(net_profit_list, revenue_list):\n",
    "    # Check if lengths of the two lists are the same\n",
    "    if len(net_profit_list) != len(revenue_list):\n",
    "        raise ValueError(\"Both lists must be of the same length\")\n",
    "\n",
    "    # Calculate sales margin for each pair of net_profit and revenue\n",
    "    sales_margin_list = [(profit / revenue) * 100 if revenue != 0 else 0 for profit, revenue in zip(net_profit_list, revenue_list)]\n",
    "\n",
    "    return sales_margin_list\n",
    "\n",
    "# Sample data\n",
    "net_profit_list = [79590000, 79139000, 79920000, 81742000]\n",
    "revenue_list = [8728000, 5753000, 11872000,\t13190000]\n",
    "\n",
    "sales_margin_values = calculate_sales_margin(net_profit_list, revenue_list)\n",
    "print(sales_margin_values)"
   ],
   "metadata": {
    "collapsed": false,
    "ExecuteTime": {
     "end_time": "2023-09-16T06:35:28.213241200Z",
     "start_time": "2023-09-16T06:35:28.186240500Z"
    }
   }
  },
  {
   "cell_type": "code",
   "execution_count": 50,
   "outputs": [],
   "source": [
    "def divide_lists(list1, list2):\n",
    "    # Check if lengths of the two lists are the same\n",
    "    if len(list1) != len(list2):\n",
    "        raise ValueError(\"Both lists must be of the same length\")\n",
    "\n",
    "    # Divide elements of list1 by elements of list2, handling division by zero\n",
    "    result_list = [x / y if y != 0 else float('inf') for x, y in zip(list1, list2)]\n",
    "\n",
    "    return result_list"
   ],
   "metadata": {
    "collapsed": false,
    "ExecuteTime": {
     "end_time": "2023-09-16T06:35:28.226240200Z",
     "start_time": "2023-09-16T06:35:28.202240Z"
    }
   }
  },
  {
   "cell_type": "code",
   "execution_count": 51,
   "outputs": [
    {
     "name": "stdout",
     "output_type": "stream",
     "text": [
      "[18143.580851865812, 12035.3641061929, 25759.803803803803, 32704.71972792445]\n"
     ]
    }
   ],
   "source": [
    "# ebitda / sales margin\n",
    "ebitda_divide_sales_margin = divide_lists(project_ebitda_list, sales_margin_values)\n",
    "print(ebitda_divide_sales_margin)"
   ],
   "metadata": {
    "collapsed": false,
    "ExecuteTime": {
     "end_time": "2023-09-16T06:35:28.232242500Z",
     "start_time": "2023-09-16T06:35:28.217244800Z"
    }
   }
  },
  {
   "cell_type": "code",
   "execution_count": 52,
   "outputs": [
    {
     "name": "stdout",
     "output_type": "stream",
     "text": [
      "Project Profit: $1,508,726.57\n"
     ]
    }
   ],
   "source": [
    "# Assume that the project's profitability will be similar to IBM's existing projects in the latest fiscal year and estimate (revenues-costs) each year by using the latest EBITDA/Sales profit margin.\n",
    "existing_projects_profit = project_ebitda / sales_margin\n",
    "print(\"Project Profit: ${:,.2f}\".format(existing_projects_profit))"
   ],
   "metadata": {
    "collapsed": false,
    "ExecuteTime": {
     "end_time": "2023-09-16T06:35:28.291238500Z",
     "start_time": "2023-09-16T06:35:28.231240Z"
    }
   }
  },
  {
   "cell_type": "code",
   "execution_count": 53,
   "outputs": [
    {
     "name": "stdout",
     "output_type": "stream",
     "text": [
      "Assets depreciation value per year $333,480.00\n"
     ]
    }
   ],
   "source": [
    "# TODO: determine the annual depreciation by assuming IBM depreciates these assets by the straight-line method over a five-year life\n",
    "assets = initial_capital_expenditure + additional_capital_expenditure\n",
    "\n",
    "assets_dep = assets/5\n",
    "print(\"Assets depreciation value per year ${:,.2f}\".format(assets_dep))"
   ],
   "metadata": {
    "collapsed": false,
    "ExecuteTime": {
     "end_time": "2023-09-16T06:35:28.301240Z",
     "start_time": "2023-09-16T06:35:28.248240600Z"
    }
   }
  },
  {
   "cell_type": "code",
   "execution_count": 54,
   "outputs": [
    {
     "name": "stdout",
     "output_type": "stream",
     "text": [
      "Net Working Capital List: [6000, 7100, 6550]\n"
     ]
    }
   ],
   "source": [
    "# TODO: Calculate the net working capital required each year by assuming that the level of net working capital will be a constant percentage of the project's sales. Use IBM's NWC/Sales for the latest fiscal year to estimate the required percentage.\n",
    "# Use only accounts receivable, accounts payable, and inventory to measure working capital. Other components of current assets and liabilities are harder to interpret and not necessarily reflective of the project's required NWC)\n",
    "\n",
    "def net_working_capital_list(accounts_receivable_list, inventory_list, accounts_payable_list):\n",
    "    return [(ar + inv) - ap for ar, inv, ap in zip(accounts_receivable_list, inventory_list, accounts_payable_list)]\n",
    "\n",
    "# data\n",
    "accounts_receivable_list = [5000, 6000, 5500]\n",
    "inventory_list = [3000, 3200, 3100]\n",
    "accounts_payable_list = [2000, 2100, 2050]\n",
    "\n",
    "nwc_list = net_working_capital_list(accounts_receivable_list, inventory_list, accounts_payable_list)\n",
    "print(f\"Net Working Capital List: {nwc_list}\")"
   ],
   "metadata": {
    "collapsed": false,
    "ExecuteTime": {
     "end_time": "2023-09-16T06:35:28.301240Z",
     "start_time": "2023-09-16T06:35:28.266240400Z"
    }
   }
  },
  {
   "cell_type": "code",
   "execution_count": 55,
   "outputs": [
    {
     "name": "stdout",
     "output_type": "stream",
     "text": [
      "[0.20787787410478703, 0.20920153148258128, 0.2169794794794795, 0.24795086980988965]\n"
     ]
    }
   ],
   "source": [
    "def calculate_ebitda_profit_margin(ebit_list, depreciation_list, revenue_list):\n",
    "    # Check if lengths of all lists are same\n",
    "    if len(ebit_list) != len(depreciation_list) or len(ebit_list) != len(revenue_list):\n",
    "        raise ValueError(\"All lists must be of the same length\")\n",
    "\n",
    "    # Calculate EBITDA for each year\n",
    "    ebitda_list = [ebit + depreciation for ebit, depreciation in zip(ebit_list, depreciation_list)]\n",
    "\n",
    "    # Calculate EBITDA/Sales profit margin for each year\n",
    "    ebitda_sales_margin_list = [ebitda / revenue if revenue != 0 else 0 for ebitda, revenue in zip(ebitda_list, revenue_list)]\n",
    "\n",
    "    return ebitda_sales_margin_list\n",
    "\n",
    "# data\n",
    "ebit_list = [12065000, 12015000, 12960000, 16413000]\n",
    "depreciation_list = [4480000, 4541000, 4381000, 3855000]\n",
    "revenue_list = [79590000, 79139000, 79920000, 81742000]\n",
    "\n",
    "profit_margins = calculate_ebitda_profit_margin(ebit_list, depreciation_list, revenue_list)\n",
    "print(profit_margins)"
   ],
   "metadata": {
    "collapsed": false,
    "ExecuteTime": {
     "end_time": "2023-09-16T06:35:28.301240Z",
     "start_time": "2023-09-16T06:35:28.281240Z"
    }
   }
  },
  {
   "cell_type": "code",
   "execution_count": 56,
   "outputs": [
    {
     "name": "stdout",
     "output_type": "stream",
     "text": [
      "Net Working Capital List: [-647800, -6441800, -6200400]\n",
      "Change in Net Working Capital List: [0, -5794000, 241400]\n"
     ]
    }
   ],
   "source": [
    "def net_working_capital_list(accounts_receivable_list, inventory_list, accounts_payable_list):\n",
    "    # Calculate net working capital for each year\n",
    "    nwc_list = [(ar + inv) - ap for ar, inv, ap in zip(accounts_receivable_list, inventory_list, accounts_payable_list)]\n",
    "\n",
    "    # Calculate the change in net working capital each year\n",
    "    nwc_change = [nwc_list[i] - nwc_list[i-1] for i in range(1, len(nwc_list))]\n",
    "    # Add a 0 at the beginning since there's no change for the first year\n",
    "    nwc_change.insert(0, 0)\n",
    "\n",
    "    return nwc_list, nwc_change\n",
    "\n",
    "# data\n",
    "accounts_receivable_list = [5000, 6000, 5500]\n",
    "inventory_list = [3000, 3200, 3100]\n",
    "accounts_payable_list = [655800, 6451000, 6209000, 6028000]\n",
    "\n",
    "nwc_list, nwc_change_list = net_working_capital_list(accounts_receivable_list, inventory_list, accounts_payable_list)\n",
    "print(f\"Net Working Capital List: {nwc_list}\")\n",
    "print(f\"Change in Net Working Capital List: {nwc_change_list}\")"
   ],
   "metadata": {
    "collapsed": false,
    "ExecuteTime": {
     "end_time": "2023-09-16T06:35:28.311377400Z",
     "start_time": "2023-09-16T06:35:28.296242500Z"
    }
   }
  },
  {
   "cell_type": "code",
   "execution_count": 57,
   "outputs": [
    {
     "name": "stdout",
     "output_type": "stream",
     "text": [
      "Required Percentage: 31.34%\n"
     ]
    }
   ],
   "source": [
    "accounts_receivable = 29820000\n",
    "inventory = 1682000\n",
    "accounts_payable = 6558000\n",
    "total_revenue = 79590000\n",
    "nwc = accounts_receivable + inventory - accounts_payable\n",
    "required_percentage = nwc / total_revenue *100\n",
    "print(\"Required Percentage: {:,.2f}%\".format(required_percentage))"
   ],
   "metadata": {
    "collapsed": false,
    "ExecuteTime": {
     "end_time": "2023-09-16T06:35:28.370124100Z",
     "start_time": "2023-09-16T06:35:28.313870400Z"
    }
   }
  },
  {
   "cell_type": "code",
   "execution_count": 58,
   "outputs": [
    {
     "name": "stdout",
     "output_type": "stream",
     "text": [
      "74831999.99999999 86056799.99999999 94662480.0 99395604.00000001\n"
     ]
    }
   ],
   "source": [
    "nwc_1 = year_1_project*(required_percentage)\n",
    "nwc_2 = year_2_project*(required_percentage)\n",
    "nwc_3 = year_3_project*(required_percentage)\n",
    "nwc_4 = year_4_project*(required_percentage)\n",
    "print(nwc_1,nwc_2,nwc_3,nwc_4)"
   ],
   "metadata": {
    "collapsed": false,
    "ExecuteTime": {
     "end_time": "2023-09-16T06:35:28.376088300Z",
     "start_time": "2023-09-16T06:35:28.326539Z"
    }
   }
  },
  {
   "cell_type": "code",
   "execution_count": 64,
   "outputs": [
    {
     "name": "stdout",
     "output_type": "stream",
     "text": [
      "IBM's NWC/Sales ratio: 0.3134062068099007\n",
      "Required NWC for the project each year: [748320.0, 860568.0, 946624.8, 993956.0400000002, 1043653.8420000003]\n",
      "Change in NWC each year: [748320.0, 112248, 86057, 47331, 49698]\n"
     ]
    }
   ],
   "source": [
    "# Given data\n",
    "ibm_accounts_receivable = 29820000\n",
    "ibm_inventory = 1682000\n",
    "ibm_accounts_payable = 6558000\n",
    "ibm_sales = 79590000\n",
    "\n",
    "project_sales_list = [year_1_project, year_2_project, year_3_project, year_4_project, year_5_project]\n",
    "\n",
    "# Calculate IBM's NWC/Sales ratio\n",
    "ibm_nwc = (ibm_accounts_receivable + ibm_inventory) - ibm_accounts_payable\n",
    "ibm_nwc_sales_ratio = ibm_nwc / ibm_sales\n",
    "\n",
    "# Calculate the required NWC for the project each year\n",
    "project_nwc_list = [sales * ibm_nwc_sales_ratio for sales in project_sales_list]\n",
    "\n",
    "# Calculate the change in NWC each year\n",
    "nwc_change_list = [round(project_nwc_list[i]) - round(project_nwc_list[i-1]) for i in range(1, len(project_nwc_list))]\n",
    "nwc_change_list.insert(0, project_nwc_list[0])  # For the first year, the change is the entire amount\n",
    "\n",
    "print(f\"IBM's NWC/Sales ratio: {ibm_nwc_sales_ratio}\")\n",
    "print(f\"Required NWC for the project each year: {project_nwc_list}\")\n",
    "print(f\"Change in NWC each year: {nwc_change_list}\")"
   ],
   "metadata": {
    "collapsed": false,
    "ExecuteTime": {
     "end_time": "2023-09-16T06:37:41.343926300Z",
     "start_time": "2023-09-16T06:37:41.331926200Z"
    }
   }
  },
  {
   "cell_type": "code",
   "execution_count": 66,
   "outputs": [
    {
     "name": "stdout",
     "output_type": "stream",
     "text": [
      "Year 1: 860568.0, Year 0: 748320.0\n",
      "NWC Change: 112248.0\n",
      "Year 2: 946624.8, Year 1: 860568.0\n",
      "NWC Change: 86056.80000000005\n",
      "Year 3: 993956.0400000002, Year 2: 946624.8\n",
      "NWC Change: 47331.24000000011\n",
      "Year 4: 1043653.8420000003, Year 3: 993956.0400000002\n",
      "NWC Change: 49697.80200000014\n"
     ]
    }
   ],
   "source": [
    "for i in range(1, len(project_nwc_list)):\n",
    "    print(f\"Year {i}: {project_nwc_list[i]}, Year {i-1}: {project_nwc_list[i-1]}\")\n",
    "    nwc_change = project_nwc_list[i] - project_nwc_list[i-1]\n",
    "    print(f\"NWC Change: {nwc_change}\")"
   ],
   "metadata": {
    "collapsed": false,
    "ExecuteTime": {
     "end_time": "2023-09-16T06:38:51.572962100Z",
     "start_time": "2023-09-16T06:38:51.567961500Z"
    }
   }
  },
  {
   "cell_type": "code",
   "execution_count": 67,
   "outputs": [
    {
     "name": "stdout",
     "output_type": "stream",
     "text": [
      "Year 1: 860568, Year 0: 748320\n",
      "NWC Change: 112248\n",
      "Year 2: 946625, Year 1: 860568\n",
      "NWC Change: 86057\n",
      "Year 3: 993956, Year 2: 946625\n",
      "NWC Change: 47331\n",
      "Year 4: 1043654, Year 3: 993956\n",
      "NWC Change: 49698\n"
     ]
    }
   ],
   "source": [
    "# Convert each element to an integer after rounding\n",
    "project_nwc_list = [int(round(item)) for item in project_nwc_list]\n",
    "\n",
    "# Then calculate the change in NWC as before\n",
    "for i in range(1, len(project_nwc_list)):\n",
    "    print(f\"Year {i}: {project_nwc_list[i]}, Year {i-1}: {project_nwc_list[i-1]}\")\n",
    "    nwc_change = project_nwc_list[i] - project_nwc_list[i-1]\n",
    "    print(f\"NWC Change: {nwc_change}\")"
   ],
   "metadata": {
    "collapsed": false,
    "ExecuteTime": {
     "end_time": "2023-09-16T06:39:47.184443100Z",
     "start_time": "2023-09-16T06:39:47.176289500Z"
    }
   }
  },
  {
   "cell_type": "code",
   "execution_count": 68,
   "outputs": [
    {
     "ename": "TypeError",
     "evalue": "unsupported operand type(s) for -: 'float' and 'list'",
     "output_type": "error",
     "traceback": [
      "\u001B[1;31m---------------------------------------------------------------------------\u001B[0m",
      "\u001B[1;31mTypeError\u001B[0m                                 Traceback (most recent call last)",
      "Cell \u001B[1;32mIn[68], line 26\u001B[0m\n\u001B[0;32m     23\u001B[0m project_sales_list \u001B[38;5;241m=\u001B[39m [\u001B[38;5;241m8728000\u001B[39m, \u001B[38;5;241m5753000\u001B[39m, \u001B[38;5;241m11872000\u001B[39m, \u001B[38;5;241m13190000\u001B[39m]\n\u001B[0;32m     24\u001B[0m ibm_nwc_sales_ratio \u001B[38;5;241m=\u001B[39m (ibm_accounts_receivable \u001B[38;5;241m+\u001B[39m ibm_inventory \u001B[38;5;241m-\u001B[39m ibm_accounts_payable) \u001B[38;5;241m/\u001B[39m ibm_sales\n\u001B[1;32m---> 26\u001B[0m fcf_values \u001B[38;5;241m=\u001B[39m \u001B[43mcalculate_fcf\u001B[49m\u001B[43m(\u001B[49m\u001B[43mebit_list\u001B[49m\u001B[43m,\u001B[49m\u001B[43m \u001B[49m\u001B[43mtax_rate_list\u001B[49m\u001B[43m,\u001B[49m\u001B[43m \u001B[49m\u001B[43mdepreciation_list\u001B[49m\u001B[43m,\u001B[49m\u001B[43m \u001B[49m\u001B[43mcapex_list\u001B[49m\u001B[43m,\u001B[49m\u001B[43m \u001B[49m\u001B[43mproject_sales_list\u001B[49m\u001B[43m,\u001B[49m\u001B[43m \u001B[49m\u001B[43mibm_nwc_sales_ratio\u001B[49m\u001B[43m)\u001B[49m\n\u001B[0;32m     27\u001B[0m \u001B[38;5;28mprint\u001B[39m(\u001B[38;5;124mf\u001B[39m\u001B[38;5;124m\"\u001B[39m\u001B[38;5;124mFree Cash Flow each year: \u001B[39m\u001B[38;5;132;01m{\u001B[39;00mfcf_values\u001B[38;5;132;01m}\u001B[39;00m\u001B[38;5;124m\"\u001B[39m)\n",
      "Cell \u001B[1;32mIn[68], line 10\u001B[0m, in \u001B[0;36mcalculate_fcf\u001B[1;34m(ebit_list, tax_rate_list, depreciation_list, capex_list, project_sales_list, nwc_sales_ratio)\u001B[0m\n\u001B[0;32m      7\u001B[0m nwc_change_list\u001B[38;5;241m.\u001B[39minsert(\u001B[38;5;241m0\u001B[39m, project_nwc_list[\u001B[38;5;241m0\u001B[39m])  \u001B[38;5;66;03m# For the first year, the change is the entire amount\u001B[39;00m\n\u001B[0;32m      9\u001B[0m \u001B[38;5;66;03m# Calculate FCF for each year\u001B[39;00m\n\u001B[1;32m---> 10\u001B[0m fcf_list \u001B[38;5;241m=\u001B[39m [\n\u001B[0;32m     11\u001B[0m     ebit \u001B[38;5;241m*\u001B[39m (\u001B[38;5;241m1\u001B[39m \u001B[38;5;241m-\u001B[39m tax_rate) \u001B[38;5;241m+\u001B[39m depreciation \u001B[38;5;241m-\u001B[39m capex \u001B[38;5;241m-\u001B[39m delta_nwc\n\u001B[0;32m     12\u001B[0m     \u001B[38;5;28;01mfor\u001B[39;00m ebit, tax_rate, depreciation, capex, delta_nwc\n\u001B[0;32m     13\u001B[0m     \u001B[38;5;129;01min\u001B[39;00m \u001B[38;5;28mzip\u001B[39m(ebit_list, tax_rate_list, depreciation_list, capex_list, nwc_change_list)\n\u001B[0;32m     14\u001B[0m ]\n\u001B[0;32m     16\u001B[0m \u001B[38;5;28;01mreturn\u001B[39;00m fcf_list\n",
      "Cell \u001B[1;32mIn[68], line 11\u001B[0m, in \u001B[0;36m<listcomp>\u001B[1;34m(.0)\u001B[0m\n\u001B[0;32m      7\u001B[0m nwc_change_list\u001B[38;5;241m.\u001B[39minsert(\u001B[38;5;241m0\u001B[39m, project_nwc_list[\u001B[38;5;241m0\u001B[39m])  \u001B[38;5;66;03m# For the first year, the change is the entire amount\u001B[39;00m\n\u001B[0;32m      9\u001B[0m \u001B[38;5;66;03m# Calculate FCF for each year\u001B[39;00m\n\u001B[0;32m     10\u001B[0m fcf_list \u001B[38;5;241m=\u001B[39m [\n\u001B[1;32m---> 11\u001B[0m     \u001B[43mebit\u001B[49m\u001B[43m \u001B[49m\u001B[38;5;241;43m*\u001B[39;49m\u001B[43m \u001B[49m\u001B[43m(\u001B[49m\u001B[38;5;241;43m1\u001B[39;49m\u001B[43m \u001B[49m\u001B[38;5;241;43m-\u001B[39;49m\u001B[43m \u001B[49m\u001B[43mtax_rate\u001B[49m\u001B[43m)\u001B[49m\u001B[43m \u001B[49m\u001B[38;5;241;43m+\u001B[39;49m\u001B[43m \u001B[49m\u001B[43mdepreciation\u001B[49m\u001B[43m \u001B[49m\u001B[38;5;241;43m-\u001B[39;49m\u001B[43m \u001B[49m\u001B[43mcapex\u001B[49m \u001B[38;5;241m-\u001B[39m delta_nwc\n\u001B[0;32m     12\u001B[0m     \u001B[38;5;28;01mfor\u001B[39;00m ebit, tax_rate, depreciation, capex, delta_nwc\n\u001B[0;32m     13\u001B[0m     \u001B[38;5;129;01min\u001B[39;00m \u001B[38;5;28mzip\u001B[39m(ebit_list, tax_rate_list, depreciation_list, capex_list, nwc_change_list)\n\u001B[0;32m     14\u001B[0m ]\n\u001B[0;32m     16\u001B[0m \u001B[38;5;28;01mreturn\u001B[39;00m fcf_list\n",
      "\u001B[1;31mTypeError\u001B[0m: unsupported operand type(s) for -: 'float' and 'list'"
     ]
    }
   ],
   "source": [
    "def calculate_fcf(ebit_list, tax_rate_list, depreciation_list, capex_list, project_sales_list, nwc_sales_ratio):\n",
    "    # Calculate the required NWC for the project each year\n",
    "    project_nwc_list = [sales * nwc_sales_ratio for sales in project_sales_list]\n",
    "\n",
    "    # Calculate the change in NWC each year\n",
    "    nwc_change_list = [project_nwc_list[i] - project_nwc_list[i-1] for i in range(1, len(project_nwc_list))]\n",
    "    nwc_change_list.insert(0, project_nwc_list[0])  # For the first year, the change is the entire amount\n",
    "\n",
    "    # Calculate FCF for each year\n",
    "    fcf_list = [\n",
    "        ebit * (1 - tax_rate) + depreciation - capex - delta_nwc\n",
    "        for ebit, tax_rate, depreciation, capex, delta_nwc\n",
    "        in zip(ebit_list, tax_rate_list, depreciation_list, capex_list, nwc_change_list)\n",
    "    ]\n",
    "\n",
    "    return fcf_list\n",
    "\n",
    "# data\n",
    "ebit_list = [12065000, 12015000, 12960000, 16413000]\n",
    "tax_rate_list = [0.3, 0.3, 0.3, 0.3]\n",
    "depreciation_list = [4480000, 4541000, 4381000, 3855000]\n",
    "capex_list = [project_nwc_list]\n",
    "project_sales_list = [8728000, 5753000, 11872000, 13190000]\n",
    "ibm_nwc_sales_ratio = (ibm_accounts_receivable + ibm_inventory - ibm_accounts_payable) / ibm_sales\n",
    "\n",
    "fcf_values = calculate_fcf(ebit_list, tax_rate_list, depreciation_list, capex_list, project_sales_list, ibm_nwc_sales_ratio)\n",
    "print(f\"Free Cash Flow each year: {fcf_values}\")"
   ],
   "metadata": {
    "collapsed": false,
    "ExecuteTime": {
     "end_time": "2023-09-16T06:39:51.725250600Z",
     "start_time": "2023-09-16T06:39:51.702095700Z"
    }
   }
  },
  {
   "cell_type": "code",
   "execution_count": 69,
   "outputs": [
    {
     "name": "stdout",
     "output_type": "stream",
     "text": [
      "Free Cash Flow each year: [-8870.0, 5933.0, 6633.0]\n"
     ]
    }
   ],
   "source": [
    "def calculate_fcf(ebit_list, tax_rate_list, depreciation_list, capex_list, project_sales_list, nwc_sales_ratio):\n",
    "    # Calculate the required NWC for the project each year\n",
    "    project_nwc_list = [sales * nwc_sales_ratio for sales in project_sales_list]\n",
    "\n",
    "    # Convert each element of project_nwc_list to an integer after rounding\n",
    "    project_nwc_list = [int(round(item)) for item in project_nwc_list]\n",
    "\n",
    "    # Calculate the change in NWC each year\n",
    "    nwc_change_list = [project_nwc_list[i] - project_nwc_list[i-1] for i in range(1, len(project_nwc_list))]\n",
    "    nwc_change_list.insert(0, project_nwc_list[0])  # For the first year, the change is the entire amount\n",
    "\n",
    "    # Calculate FCF for each year\n",
    "    fcf_list = [\n",
    "        ebit * (1 - tax_rate) + depreciation - capex - delta_nwc\n",
    "        for ebit, tax_rate, depreciation, capex, delta_nwc\n",
    "        in zip(ebit_list, tax_rate_list, depreciation_list, capex_list, nwc_change_list)\n",
    "    ]\n",
    "\n",
    "    return fcf_list\n",
    "\n",
    "# data\n",
    "ebit_list = [10000, 11000, 12000]\n",
    "tax_rate_list = [0.3, 0.3, 0.3]\n",
    "depreciation_list = [500, 550, 600]\n",
    "capex_list = [700, 750, 800]\n",
    "project_sales_list = [50000, 55000, 60000]\n",
    "ibm_nwc_sales_ratio = (ibm_accounts_receivable + ibm_inventory - ibm_accounts_payable) / ibm_sales\n",
    "\n",
    "fcf_values = calculate_fcf(ebit_list, tax_rate_list, depreciation_list, capex_list, project_sales_list, ibm_nwc_sales_ratio)\n",
    "print(f\"Free Cash Flow each year: {fcf_values}\")"
   ],
   "metadata": {
    "collapsed": false,
    "ExecuteTime": {
     "end_time": "2023-09-16T06:42:33.595182400Z",
     "start_time": "2023-09-16T06:42:33.582187400Z"
    }
   }
  },
  {
   "cell_type": "code",
   "execution_count": null,
   "outputs": [],
   "source": [],
   "metadata": {
    "collapsed": false
   }
  }
 ],
 "metadata": {
  "kernelspec": {
   "display_name": "Python 3",
   "language": "python",
   "name": "python3"
  },
  "language_info": {
   "codemirror_mode": {
    "name": "ipython",
    "version": 2
   },
   "file_extension": ".py",
   "mimetype": "text/x-python",
   "name": "python",
   "nbconvert_exporter": "python",
   "pygments_lexer": "ipython2",
   "version": "2.7.6"
  }
 },
 "nbformat": 4,
 "nbformat_minor": 0
}
